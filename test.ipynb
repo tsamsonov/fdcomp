{
 "cells": [
  {
   "cell_type": "code",
   "execution_count": 1,
   "metadata": {},
   "outputs": [],
   "source": [
    "import fdcomp\n",
    "import rasterio\n",
    "import numpy as np"
   ]
  },
  {
   "cell_type": "code",
   "execution_count": 2,
   "metadata": {},
   "outputs": [
    {
     "data": {
      "text/plain": [
       "array([ 8.33333333e-03,  0.00000000e+00, -8.50000000e+01,  0.00000000e+00,\n",
       "       -8.33333333e-03,  1.50000000e+01])"
      ]
     },
     "execution_count": 2,
     "metadata": {},
     "output_type": "execute_result"
    }
   ],
   "source": [
    "wd = '/Volumes/Cloud/Yandex/RSCF_Flow_directions/TESTS_raster_generalization'\n",
    "\n",
    "acc1_src = rasterio.open(f'{wd}/HydroSHEDS/hyd_glo_acc_30s_sa.tif')\n",
    "acc1 = acc1_src.read(1)\n",
    " \n",
    "dir1_src = rasterio.open(f'{wd}/HydroSHEDS/hyd_glo_dir_30s_sa.tif')\n",
    "dir1 = dir1_src.read(1)\n",
    "aff1 = np.array(dir1_src.get_transform())[[1, 2, 0, 4, 5, 3]]\n",
    "\n",
    "dir2_src = rasterio.open(f'{wd}/COTAT/COTAT_05_flowdir_sa.tif')\n",
    "dir2 = dir2_src.read(1)\n",
    "aff2 = np.array(dir2_src.get_transform())[[1, 2, 0, 4, 5, 3]]\n",
    "\n",
    "aff1"
   ]
  },
  {
   "cell_type": "code",
   "execution_count": 3,
   "metadata": {},
   "outputs": [],
   "source": [
    "tree, seeds = fdcomp.d8tree(acc1, dir1, aff1)"
   ]
  },
  {
   "cell_type": "code",
   "execution_count": 4,
   "metadata": {},
   "outputs": [
    {
     "data": {
      "text/plain": [
       "array([[   3056,     991,    1880,    4070,    4647, 6965746, 5063773],\n",
       "       [   3511,    3420,    5872,    3177,    3170, 3288084, 3357982],\n",
       "       [   3789,    2902,    2203,    3163,    2637, 1638512, 2861484],\n",
       "       [   3718,    4490,    5078,    3165,    2306, 1194040, 2426426],\n",
       "       [   1372,    1256,     770,    2882,    2452, 1098998, 2678446],\n",
       "       [   3965,    3830,    2062,    4272,    2315,  919817, 2480874],\n",
       "       [   1565,    2477,    2177,    3010,    1708,  832793, 1857751],\n",
       "       [   4194,    4605,    3055,    5831,    2458,  764140, 2635353],\n",
       "       [   3582,    3660,    1980,    3984,    2114,  605074, 2304509]],\n",
       "      dtype=uint32)"
      ]
     },
     "execution_count": 4,
     "metadata": {},
     "output_type": "execute_result"
    }
   ],
   "source": [
    "seeds[0:9]"
   ]
  },
  {
   "cell_type": "code",
   "execution_count": 10,
   "metadata": {},
   "outputs": [
    {
     "data": {
      "text/plain": [
       "array([8.10200129e+01, 3.15457413e-02, 4.85779295e+01, 7.51517780e+01,\n",
       "       4.07830343e-02, 4.31965443e-02, 7.81030445e+01, 4.06834825e-02,\n",
       "       7.75307474e+01, 7.40827024e+01, 7.51219512e+01, 6.72316384e+01,\n",
       "       4.92610837e-02, 9.00819672e+01, 5.83771162e-02, 5.35331906e-02,\n",
       "       8.31946755e-02, 7.30569948e+01, 7.10227273e-02, 6.57462196e-02,\n",
       "       5.66893424e-02, 7.88140162e+01, 8.46740051e-02, 1.43472023e-01,\n",
       "       1.66427547e+01, 1.50150150e-01, 8.70322019e-02, 6.37393768e+01,\n",
       "       3.38916256e+01, 1.27877238e-01, 7.53579503e-02, 7.71604938e-02,\n",
       "       9.99000999e-02, 1.29366106e-01, 9.09090909e-02, 1.03092784e-01,\n",
       "       7.32064422e-02, 9.31966449e-02, 6.64010624e-02, 7.15137068e-01,\n",
       "       5.11200000e+01, 5.93810445e+01, 1.34952767e-01, 6.63013699e+01,\n",
       "       1.62412993e+00, 4.66225166e+01, 6.20020429e+01, 1.53846154e-01,\n",
       "       8.12000000e+01, 1.02669405e-01, 1.42653352e-01, 1.40252454e-01,\n",
       "       1.39860140e-01, 1.75131349e-01, 6.17678381e+00, 6.90161527e+00,\n",
       "       2.35294118e-01, 1.33868809e+00, 2.59887006e+00, 7.18938480e+01,\n",
       "       7.35521236e+01, 1.10864745e-01, 1.98019802e-01, 1.22850123e-01,\n",
       "       1.69204738e-01, 1.57232704e-01, 1.52671756e-01, 8.20734341e+01,\n",
       "       7.05394191e+01, 4.41576087e+01, 9.10746812e-02, 1.10741971e-01,\n",
       "       5.59440559e+00, 1.86219739e-01, 7.69709544e+01, 4.34225844e+01,\n",
       "       6.79761905e+01, 1.28865979e-01, 1.35135135e-01, 1.49700599e-01,\n",
       "       6.80580762e+01, 7.64786795e+01, 1.71232877e-01, 1.68350168e-01,\n",
       "       7.93621013e+01, 1.64083865e+01, 5.20754717e+01, 2.72566372e+01,\n",
       "       1.30890052e-01, 2.40963855e-01, 6.28930818e+00, 1.95312500e-01,\n",
       "       7.45283019e+01, 2.16450216e-01, 1.82481752e-01, 1.34589502e-01,\n",
       "       2.33100233e-01, 3.22580645e-01, 2.68817204e-01, 1.00000000e+02])"
      ]
     },
     "execution_count": 10,
     "metadata": {},
     "output_type": "execute_result"
    }
   ],
   "source": [
    "accuracy = fdcomp.d8comp(dir1, dir2, seeds[0:100])\n",
    "accuracy * 100"
   ]
  },
  {
   "cell_type": "code",
   "execution_count": 5,
   "metadata": {},
   "outputs": [],
   "source": [
    "profile = acc1_src.profile\n",
    "\n",
    "dst = rasterio.open(f'{wd}/d8tree.tif', 'w', **profile)\n",
    "dst.write(res, 1)\n",
    "dst.close()"
   ]
  }
 ],
 "metadata": {
  "kernelspec": {
   "display_name": ".venv",
   "language": "python",
   "name": "python3"
  },
  "language_info": {
   "codemirror_mode": {
    "name": "ipython",
    "version": 3
   },
   "file_extension": ".py",
   "mimetype": "text/x-python",
   "name": "python",
   "nbconvert_exporter": "python",
   "pygments_lexer": "ipython3",
   "version": "3.11.5"
  }
 },
 "nbformat": 4,
 "nbformat_minor": 2
}
