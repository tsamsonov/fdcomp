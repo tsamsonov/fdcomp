{
 "cells": [
  {
   "cell_type": "code",
   "execution_count": 1,
   "metadata": {},
   "outputs": [
    {
     "ename": "ModuleNotFoundError",
     "evalue": "No module named 'fdcomp'",
     "output_type": "error",
     "traceback": [
      "\u001b[0;31m---------------------------------------------------------------------------\u001b[0m",
      "\u001b[0;31mModuleNotFoundError\u001b[0m                       Traceback (most recent call last)",
      "\u001b[0;32m<ipython-input-1-bd707e997a0f>\u001b[0m in \u001b[0;36m<module>\u001b[0;34m\u001b[0m\n\u001b[0;32m----> 1\u001b[0;31m \u001b[0;32mimport\u001b[0m \u001b[0mfdcomp\u001b[0m\u001b[0;34m\u001b[0m\u001b[0;34m\u001b[0m\u001b[0m\n\u001b[0m\u001b[1;32m      2\u001b[0m \u001b[0;32mimport\u001b[0m \u001b[0mrasterio\u001b[0m\u001b[0;34m\u001b[0m\u001b[0;34m\u001b[0m\u001b[0m\n\u001b[1;32m      3\u001b[0m \u001b[0;32mimport\u001b[0m \u001b[0mnumpy\u001b[0m \u001b[0;32mas\u001b[0m \u001b[0mnp\u001b[0m\u001b[0;34m\u001b[0m\u001b[0;34m\u001b[0m\u001b[0m\n",
      "\u001b[0;31mModuleNotFoundError\u001b[0m: No module named 'fdcomp'"
     ]
    }
   ],
   "source": [
    "import fdcomp\n",
    "import rasterio\n",
    "import numpy as np"
   ]
  },
  {
   "cell_type": "code",
   "execution_count": 2,
   "metadata": {},
   "outputs": [],
   "source": [
    "wd = '/Volumes/Cloud/Yandex/RSCF_Flow_directions/TESTS_raster_generalization'\n",
    "\n",
    "acc1_src = rasterio.open(f'{wd}/HydroSHEDS/hyd_glo_acc_30s_sa.tif')\n",
    "acc1 = acc1_src.read(1)\n",
    "\n",
    "dir1_src = rasterio.open(f'{wd}/HydroSHEDS/hyd_glo_dir_30s_sa.tif')\n",
    "dir1 = dir1_src.read(1)\n",
    "aff1 = np.array(dir1_src.get_transform())\n",
    "\n",
    "dir2_src = rasterio.open(f'{wd}/COTAT/COTAT_05_flowdir_sa.tif')\n",
    "dir2 = dir2_src.read(1)\n",
    "aff2 = np.array(dir2_src.get_transform())"
   ]
  },
  {
   "cell_type": "code",
   "execution_count": 3,
   "metadata": {},
   "outputs": [
    {
     "name": "stdout",
     "output_type": "stream",
     "text": [
      "HELL YELL\n",
      "Queue initialized\n"
     ]
    }
   ],
   "source": [
    "tree, seeds = fdcomp.d8tree(acc1, dir1)"
   ]
  },
  {
   "cell_type": "code",
   "execution_count": 5,
   "metadata": {},
   "outputs": [],
   "source": [
    "profile = acc1_src.profile\n",
    "\n",
    "dst = rasterio.open(f'{wd}/d8tree.tif', 'w', **profile)\n",
    "dst.write(res, 1)\n",
    "dst.close()"
   ]
  }
 ],
 "metadata": {
  "kernelspec": {
   "display_name": ".venv",
   "language": "python",
   "name": "python3"
  },
  "language_info": {
   "codemirror_mode": {
    "name": "ipython",
    "version": 3
   },
   "file_extension": ".py",
   "mimetype": "text/x-python",
   "name": "python",
   "nbconvert_exporter": "python",
   "pygments_lexer": "ipython3",
   "version": "3.11.5"
  }
 },
 "nbformat": 4,
 "nbformat_minor": 2
}
