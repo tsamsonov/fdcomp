{
 "cells": [
  {
   "cell_type": "code",
   "execution_count": 2,
   "metadata": {},
   "outputs": [],
   "source": [
    "import fdcomp\n",
    "import rasterio\n",
    "import numpy as np"
   ]
  },
  {
   "cell_type": "code",
   "execution_count": 3,
   "metadata": {},
   "outputs": [
    {
     "data": {
      "text/plain": [
       "array([ 8.33333333e-03,  0.00000000e+00, -8.50000000e+01,  0.00000000e+00,\n",
       "       -8.33333333e-03,  1.50000000e+01])"
      ]
     },
     "execution_count": 3,
     "metadata": {},
     "output_type": "execute_result"
    }
   ],
   "source": [
    "wd = '/Volumes/Cloud/Yandex/RSCF_Flow_directions/TESTS_raster_generalization'\n",
    "\n",
    "acc1_src = rasterio.open(f'{wd}/HydroSHEDS/hyd_glo_acc_30s_sa.tif')\n",
    "acc1 = acc1_src.read(1)\n",
    "\n",
    "dir1_src = rasterio.open(f'{wd}/HydroSHEDS/hyd_glo_dir_30s_sa.tif')\n",
    "dir1 = dir1_src.read(1)\n",
    "aff1 = np.array(dir1_src.get_transform())[[1, 2, 0, 4, 5, 3]]\n",
    "\n",
    "dir2_src = rasterio.open(f'{wd}/COTAT/COTAT_05_flowdir_sa.tif')\n",
    "dir2 = dir2_src.read(1)\n",
    "aff2 = np.array(dir2_src.get_transform())[[1, 2, 0, 4, 5, 3]]\n",
    "\n",
    "aff1"
   ]
  },
  {
   "cell_type": "code",
   "execution_count": 4,
   "metadata": {},
   "outputs": [],
   "source": [
    "tree, seeds = fdcomp.d8tree(acc1, dir1, aff1)"
   ]
  },
  {
   "cell_type": "code",
   "execution_count": 14,
   "metadata": {},
   "outputs": [
    {
     "data": {
      "text/plain": [
       "array([   3511,    3420,    5872,    3177, 3288084, 3357982], dtype=uint32)"
      ]
     },
     "execution_count": 14,
     "metadata": {},
     "output_type": "execute_result"
    }
   ],
   "source": [
    "seeds[0:9]"
   ]
  },
  {
   "cell_type": "code",
   "execution_count": 5,
   "metadata": {},
   "outputs": [],
   "source": [
    "profile = acc1_src.profile\n",
    "\n",
    "dst = rasterio.open(f'{wd}/d8tree.tif', 'w', **profile)\n",
    "dst.write(res, 1)\n",
    "dst.close()"
   ]
  }
 ],
 "metadata": {
  "kernelspec": {
   "display_name": ".venv",
   "language": "python",
   "name": "python3"
  },
  "language_info": {
   "codemirror_mode": {
    "name": "ipython",
    "version": 3
   },
   "file_extension": ".py",
   "mimetype": "text/x-python",
   "name": "python",
   "nbconvert_exporter": "python",
   "pygments_lexer": "ipython3",
   "version": "3.11.5"
  }
 },
 "nbformat": 4,
 "nbformat_minor": 2
}
